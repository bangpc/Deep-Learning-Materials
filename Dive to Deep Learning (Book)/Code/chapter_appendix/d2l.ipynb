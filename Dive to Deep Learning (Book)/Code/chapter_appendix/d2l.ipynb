{
 "cells": [
  {
   "cell_type": "markdown",
   "metadata": {},
   "source": [
    "# `d2l` API Document\n",
    "\n",
    ":label:`chapter_d2l`"
   ]
  },
  {
   "cell_type": "markdown",
   "metadata": {},
   "source": [
    "```eval_rst\n",
    "\n",
    ".. automodule:: d2l\n",
    "   :members:\n",
    "   :imported-members:\n",
    "\n",
    "```\n"
   ]
  },
  {
   "cell_type": "markdown",
   "metadata": {},
   "source": [
    "<<<<<<< HEAD\n",
    "\n",
    "## Prediciting"
   ]
  },
  {
   "cell_type": "markdown",
   "metadata": {},
   "source": [
    "```eval_rst\n",
    "\n",
    ".. automodule:: d2l.predict\n",
    "   :members:\n",
    "\n",
    "```\n"
   ]
  },
  {
   "cell_type": "markdown",
   "metadata": {},
   "source": [
    "=======\n",
    ">>>>>>> 08bfeaf... Fix some  warnings, improve PDF"
   ]
  }
 ],
 "metadata": {
  "language_info": {
   "name": "python"
  }
 },
 "nbformat": 4,
 "nbformat_minor": 2
}