{
 "cells": [
  {
   "cell_type": "markdown",
   "metadata": {},
   "source": [
    "# Using AWS Instances\n",
    "\n",
    "Many deep learning applications require significant amounts of computation. Your local machine might be too slow to solve these problems in a reasonable amount of time. Cloud computing services can give you access to more powerful computers to run the GPU intensive portions of this book. In this section, we will show you how to set up an instance. We will use Jupyter Notebooks to run code on AWS (Amazon Web Services). The walkthrough includes a number of steps:\n",
    "\n",
    "1. Request for a GPU instance.\n",
    "1. Optionally: install CUDA or use an AMI with CUDA preinstalled.\n",
    "1. Set up the corresponding MXNet GPU version.\n",
    "\n",
    "This process applies to other instances (and other clouds), too, albeit with some minor modifications.\n",
    "\n",
    "\n",
    "## Register Account and Log In\n",
    "\n",
    "First, we need to register an account at https://aws.amazon.com/. We strongly encourage you to use two-factor authentication for additional security. Furthermore, it is a good idea to set up detailed billing and spending alerts to avoid any unexpected surprises if you forget to suspend your computers. Note that you will need a credit card.\n",
    "After logging into your AWS account, click \"EC2\" (marked by the red box in :numref:`fig_aws`) to go to the EC2 panel.\n",
    "\n",
    "![ Open the EC2 console. ](../img/aws.png)\n",
    "\n",
    ":width:`400px`\n",
    "\n",
    "\n",
    ":label:`fig_aws`\n",
    "\n",
    "\n",
    "\n",
    "## Create and Run an EC2 Instance\n",
    "\n",
    ":numref:`fig_ec2` shows the EC2 panel with sensitive account information greyed out. Select a\n",
    "nearby data center to reduce latency, e.g. Oregon. If you are located in China\n",
    "you can select a nearby Asia Pacific region, such as Seoul or Tokyo. Please note\n",
    "that some data centers may not have GPU instances. Click the \"Launch Instance\"\n",
    "button marked by the red box in :numref:`fig_ec2` to launch your instance.\n",
    "\n",
    "![ EC2 panel. ](../img/ec2.png)\n",
    "\n",
    ":width:`700px`\n",
    "\n",
    "\n",
    ":label:`fig_ec2`\n",
    "\n",
    "\n",
    "We begin by selecting a suitable AMI (AWS Machine Image). If you want to install everything including the CUDA drivers from scratch, choose Ubuntu. Instead we recommend that you use the Deep Learning AMI that comes with all the drivers preconfigured.\n",
    "\n",
    "The row at the top of :numref:`fig_os` shows the steps required to configure the instance. Search for *Deep Learning Base* and select the Ubuntu flavor.\n",
    "\n",
    "![ Choose an operating system. ](../img/os.png)\n",
    "\n",
    ":width:`700px`\n",
    "\n",
    "\n",
    ":label:`fig_os`\n",
    "\n",
    "\n",
    "EC2 provides many different instance configurations to choose from. This can sometimes feel overwhelming to a beginner. Here's a table of suitable machines:\n",
    "\n",
    "| Name | GPU         | Notes                         |\n",
    "|------|-------------|-------------------------------|\n",
    "| g2   | Grid K520   | ancient                       |\n",
    "| p2   | Kepler K80  | old but often cheap as spot   |\n",
    "| g3   | Maxwell M60 | good trade-off                |\n",
    "| p3   | Volta V100  | high performance for FP16     |\n",
    "| g4   | Turing T4   | inference optimized FP16/INT8 |\n",
    "\n",
    "All the above servers come in multiple flavors indicating the number of GPUs used. E.g. a p2.xlarge has 1 GPU and a p2.16xlarge has 16 GPUs and more memory. For more details see e.g. the [AWS EC2 documentation](https://aws.amazon.com/ec2/instance-types/) or a [summary page](https://www.ec2instances.info). For the purpose of illustration a p2.xlarge will suffice.\n",
    "\n",
    "**Note:** you must use a GPU enabled instance with suitable drivers and a version of MXNet that is GPU enabled. Otherwise you will not see any benefit from using GPUs.\n",
    "\n",
    "![ Choose an instance. ](../img/p2x.png)\n",
    "\n",
    ":width:`700px`\n",
    "\n",
    "\n",
    ":label:`fig_p2x`\n",
    "\n",
    "\n",
    "Before choosing an instance, we suggest you check if there are quantity\n",
    "restrictions by clicking the \"Limits\" label in the bar on the left as shown in\n",
    ":numref:`fig_p2x`. :numref:`fig_limits` shows an example of such a\n",
    "limitation. The account can only open one \"p2.xlarge\" instance per region. If\n",
    "you need to open more instances, click on the \"Request limit increase\" link to\n",
    "apply for a higher instance quota. Generally, it takes one business day to\n",
    "process an application.\n",
    "\n",
    "![ Instance quantity restrictions. ](../img/limits.png)\n",
    "\n",
    ":width:`700px`\n",
    "\n",
    "\n",
    ":label:`fig_limits`\n",
    "\n",
    "\n",
    "So far, we have finished the first two of seven steps for launching an EC2 instance, as shown on the top of Fig 14.13. In this example, we keep the default configurations for the steps \"3. Configure Instance\", \"5. Add Tags\", and \"6. Configure Security Group\". Tap on \"4. Add Storage\" and increase the default hard disk size to 64 GB. Note that CUDA by itself already takes up 4GB.\n",
    "\n",
    "![ Modify instance hard disk size. ](../img/disk.png)\n",
    "\n",
    ":width:`700px`\n",
    "\n",
    "\n",
    ":label:`fig_disk`\n",
    "\n",
    "\n",
    "Finally, go to \"7. Review\" and click \"Launch\" to launch the configured\n",
    "instance. The system will now prompt you to select the key pair used to access\n",
    "the instance. If you do not have a key pair, select \"Create a new key pair\" in\n",
    "the first drop-down menu in :numref:`fig_keypair` to generate a key pair. Subsequently,\n",
    "you can select \"Choose an existing key pair\" for this menu and then select the\n",
    "previously generated key pair. Click \"Launch Instances\" to launch the created\n",
    "instance.\n",
    "\n",
    "![ Select a key pair. ](../img/keypair.png)\n",
    "\n",
    ":width:`700px`\n",
    "\n",
    "\n",
    ":label:`fig_keypair`\n",
    "\n",
    "\n",
    "Make sure that you download the keypair and store it in a safe location if you\n",
    "generated a new one. This is your only way to SSH into the server. Click the\n",
    "instance ID shown in :numref:`fig_launching` to view the status of this instance.\n",
    "\n",
    "![ Click the instance ID. ](../img/launching.png)\n",
    "\n",
    ":width:`700px`\n",
    "\n",
    "\n",
    ":label:`fig_launching`\n",
    "\n",
    "\n",
    "![ View instance access and startup method. ](../img/connect.png)\n",
    "\n",
    ":width:`700px`\n",
    "\n",
    "\n",
    ":label:`fig_connect`\n",
    "\n",
    "\n",
    "As shown in :numref:`fig_connect`, after the instance state turns green, right-click the instance and select \"Connect\" to view the instance access method. For example, enter the following in the command line:"
   ]
  },
  {
   "cell_type": "markdown",
   "metadata": {},
   "source": [
    "```\n",
    "ssh -i \"/path/to/key.pem\" ubuntu@ec2-xx-xxx-xxx-xxx.y.compute.amazonaws.com\n",
    "```\n"
   ]
  },
  {
   "cell_type": "markdown",
   "metadata": {},
   "source": [
    "Here, \"/path/to/key.pem\" is the path of the locally-stored key used to access the instance. When the command line prompts \"Are you sure you want to continue connecting (yes/no)\", enter \"yes\" and press Enter to log into the instance.\n",
    "\n",
    "It is a good idea to update the instance with the latest drivers."
   ]
  },
  {
   "cell_type": "markdown",
   "metadata": {},
   "source": [
    "```\n",
    "sudo apt update\n",
    "sudo apt dist-upgrade\n",
    "```\n"
   ]
  },
  {
   "cell_type": "markdown",
   "metadata": {},
   "source": [
    "Your server is ready now.\n",
    "\n",
    "## Installing CUDA\n",
    "\n",
    "If you used the Deep Learning AMI you can skip the steps below since it already comes with a range of CUDA versions pre-installed. Instead, all you need to do is select the CUDA version of your choice as follows:"
   ]
  },
  {
   "cell_type": "markdown",
   "metadata": {},
   "source": [
    "```\n",
    "sudo rm /usr/local/cuda\n",
    "sudo ln -s /usr/local/cuda-10.0 /usr/local/cuda\n",
    "```\n"
   ]
  },
  {
   "cell_type": "markdown",
   "metadata": {},
   "source": [
    "This selects CUDA 10.0 as the default.\n",
    "\n",
    "If you prefer to take the scenic route, please follow the path below. First, update and install the package needed for compilation."
   ]
  },
  {
   "cell_type": "markdown",
   "metadata": {},
   "source": [
    "```\n",
    "sudo apt update\n",
    "sudo apt dist-upgrade\n",
    "sudo apt install -y build-essential git libgfortran3\n",
    "```\n"
   ]
  },
  {
   "cell_type": "markdown",
   "metadata": {},
   "source": [
    "NVIDIA frequently releases updates to CUDA (typically one major version per year). Here we download CUDA 10.0. Visit NVIDIA's official repository at (https://developer.nvidia.com/cuda-toolkit-archive) to find the download link of CUDA 10.0 as shown below.\n",
    "\n",
    "![Find the CUDA 10.0 download address. ](../img/cuda.png)\n",
    "\n",
    ":width:`700px`\n",
    "\n",
    "\n",
    ":label:`fig_cuda`\n",
    "\n",
    "\n",
    "After copying the download address in the browser, download and install CUDA 10.0. Presently the following link is up to date:"
   ]
  },
  {
   "cell_type": "markdown",
   "metadata": {},
   "source": [
    "```\n",
    "# The download link and file name are subject to change, so always use those\n",
    "# from the NVIDIA website\n",
    "wget https://developer.nvidia.com/compute/cuda/10.0/Prod/local_installers/cuda_10.0.130_410.48_linux\n",
    "sudo sh cuda_10.0.130_410.48_linux\n",
    "```\n"
   ]
  },
  {
   "cell_type": "markdown",
   "metadata": {},
   "source": [
    "Press \"Ctrl+C\" to jump out of the document and answer the following questions."
   ]
  },
  {
   "cell_type": "markdown",
   "metadata": {},
   "source": [
    "```\n",
    "The NVIDIA CUDA Toolkit provides command-line and graphical\n",
    "tools for building, debugging and optimizing the performance\n",
    "Do you accept the previously read EULA?\n",
    "accept/decline/quit: accept\n",
    "\n",
    "Install NVIDIA Accelerated Graphics Driver for Linux-x86_64 410.48?\n",
    "(y)es/(n)o/(q)uit: y\n",
    "\n",
    "Do you want to install the OpenGL libraries?\n",
    "(y)es/(n)o/(q)uit [ default is yes ]: y\n",
    "\n",
    "Do you want to run nvidia-xconfig?\n",
    "This will update the system X configuration file so that the NVIDIA X driver\n",
    "is used. The pre-existing X configuration file will be backed up.\n",
    "This option should not be used on systems that require a custom\n",
    "X configuration, such as systems with multiple GPU vendors.\n",
    "(y)es/(n)o/(q)uit [ default is no ]: n\n",
    "\n",
    "Install the CUDA 10.0 Toolkit?\n",
    "(y)es/(n)o/(q)uit: y\n",
    "\n",
    "Enter Toolkit Location\n",
    " [ default is /usr/local/cuda-10.0 ]:\n",
    "\n",
    "Do you want to install a symbolic link at /usr/local/cuda?\n",
    "(y)es/(n)o/(q)uit: y\n",
    "\n",
    "Install the CUDA 10.0 Samples?\n",
    "(y)es/(n)o/(q)uit: n\n",
    "```\n"
   ]
  },
  {
   "cell_type": "markdown",
   "metadata": {},
   "source": [
    "After installing the program, run the following command to view the instance GPU."
   ]
  },
  {
   "cell_type": "markdown",
   "metadata": {},
   "source": [
    "```\n",
    "nvidia-smi\n",
    "```\n"
   ]
  },
  {
   "cell_type": "markdown",
   "metadata": {},
   "source": [
    "Finally, add CUDA to the library path to help other libraries find it."
   ]
  },
  {
   "cell_type": "markdown",
   "metadata": {},
   "source": [
    "```\n",
    "echo \"export LD_LIBRARY_PATH=\\${LD_LIBRARY_PATH}:/usr/local/cuda/lib64\" >> ~/.bashrc\n",
    "```\n"
   ]
  },
  {
   "cell_type": "markdown",
   "metadata": {},
   "source": [
    "## Install MXNet and Download the D2L Notebooks\n",
    "\n",
    "For detailed instructions see the introduction where we discussed how to get\n",
    "started with gluon in :ref:`chapter_installation`.  First, install Miniconda\n",
    "for Linux."
   ]
  },
  {
   "cell_type": "markdown",
   "metadata": {},
   "source": [
    "```\n",
    "# The download link and file name are subject to change, so always use those\n",
    "# from the Miniconda website\n",
    "wget https://repo.anaconda.com/miniconda/Miniconda3-latest-Linux-x86_64.sh\n",
    "sudo sh Miniconda3-latest-Linux-x86_64.sh\n",
    "```\n"
   ]
  },
  {
   "cell_type": "markdown",
   "metadata": {},
   "source": [
    "Now, you need to answer the following questions:"
   ]
  },
  {
   "cell_type": "markdown",
   "metadata": {},
   "source": [
    "```\n",
    "Do you accept the license terms? [yes|no]\n",
    "[no] >>> yes\n",
    "Do you wish the installer to prepend the Miniconda3 install location\n",
    "to PATH in your /home/ubuntu/.bashrc ? [yes|no]\n",
    "[no] >>> yes\n",
    "```\n"
   ]
  },
  {
   "cell_type": "markdown",
   "metadata": {},
   "source": [
    "After installation, run `source ~/.bashrc` once to activate CUDA and Conda. Next, download the code for this book and install and activate the Conda environment. To use GPUs you need to update MXNet to request the CUDA 10.0 build."
   ]
  },
  {
   "cell_type": "markdown",
   "metadata": {},
   "source": [
    "```\n",
    "sudo apt install unzip\n",
    "mkdir d2l-en && cd d2l-en\n",
    "wget https://www.d2l.ai/d2l-en.zip\n",
    "unzip d2l-en.zip && rm d2l-en.zip\n",
    "sed -i 's/mxnet/mxnet-cu100/g' environment.yml\n",
    "conda env create -f environment.yml\n",
    "source activate gluon\n",
    "```\n"
   ]
  },
  {
   "cell_type": "markdown",
   "metadata": {},
   "source": [
    "You can test quickly whether everything went well as follows:"
   ]
  },
  {
   "cell_type": "markdown",
   "metadata": {},
   "source": [
    "```\n",
    "$ conda activate gluon\n",
    "$ python\n",
    ">>> import mxnet as mx\n",
    ">>> ctx = mx.gpu(0)\n",
    ">>> x = mx.ndarray.zeros(shape=(1024,1024), ctx=ctx)\n",
    "```\n"
   ]
  },
  {
   "cell_type": "markdown",
   "metadata": {},
   "source": [
    "## Running Jupyter\n",
    "\n",
    "To run Jupyter remotely you need to use SSH port forwarding. After all, the server in the cloud doesn't have a monitor or keyboard. For this, log into your server from your desktop (or laptop) as follows."
   ]
  },
  {
   "cell_type": "markdown",
   "metadata": {},
   "source": [
    "```\n",
    "# This command must be run in the local command line\n",
    "ssh -i \"/path/to/key.pem\" ubuntu@ec2-xx-xxx-xxx-xxx.y.compute.amazonaws.com -L 8889:localhost:8888\n",
    "conda activate gluon\n",
    "jupyter notebook\n",
    "```\n"
   ]
  },
  {
   "cell_type": "markdown",
   "metadata": {},
   "source": [
    ":numref:`fig_jupyter` shows the possible output after you run Jupyter Notebook. The last row is the URL for port 8888.\n",
    "\n",
    "![ Output after running Jupyter Notebook. The last row is the URL for port 8888. ](../img/jupyter.png)\n",
    "\n",
    ":width:`700px`\n",
    "\n",
    "\n",
    ":label:`fig_jupyter`\n",
    "\n",
    "\n",
    "Since you used port forwarding to port 8889 you will need to replace the port number and use the secret as given by Jupyter when opening the URL in your local browser.\n",
    "\n",
    "## Closing Unused Instances\n",
    "\n",
    "As cloud services are billed by the time of use, you should close instances that are not being used. Note that there are alternatives: *Stopping* an instance means that you will be able to start it again. This is akin to switching off the power for your regular server. However, stopped instances will still be billed a small amount for the hard disk space retained. *Terminate* deletes all data associated with it. This includes the disk, hence you cannot start it again. Only do this if you know that you won't need it in the future.\n",
    "\n",
    "If you want to use the instance as a template for many more instances,\n",
    "right-click on the example in Figure 14.16 :numref:`fig_connect` and select \"Image\" $\\rightarrow$\n",
    "\"Create\" to create an image of the instance. Once this is complete, select\n",
    "\"Instance State\" $\\rightarrow$ \"Terminate\" to terminate the instance. The next\n",
    "time you want to use this instance, you can follow the steps for creating and\n",
    "running an EC2 instance described in this section to create an instance based on\n",
    "the saved image. The only difference is that, in \"1. Choose AMI\" shown in\n",
    ":numref:`fig_os`, you must use the \"My AMIs\" option on the left to select your saved\n",
    "image. The created instance will retain the information stored on the image hard\n",
    "disk. For example, you will not have to reinstall CUDA and other runtime\n",
    "environments.\n",
    "\n",
    "## Summary\n",
    "\n",
    "* Cloud computing services offer a wide variety of GPU servers.\n",
    "* You can launch and stop instances on demand without having to buy and build your own computer.\n",
    "* You need to install suitable GPU drivers before you can use them.\n",
    "\n",
    "## Exercises\n",
    "\n",
    "1. The cloud offers convenience, but it does not come cheap. Find out how to launch [spot instances](https://aws.amazon.com/ec2/spot/) to see how to reduce prices.\n",
    "1. Experiment with different GPU servers. How fast are they?\n",
    "1. Experiment with multi-GPU servers. How well can you scale things up?\n",
    "\n",
    "## Scan the QR Code to [Discuss](https://discuss.mxnet.io/t/2399)\n",
    "\n",
    "![](../img/qr_aws.svg)"
   ]
  }
 ],
 "metadata": {
  "language_info": {
   "name": "python"
  }
 },
 "nbformat": 4,
 "nbformat_minor": 2
}