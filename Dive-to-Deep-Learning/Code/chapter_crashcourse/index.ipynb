{
 "cells": [
  {
   "cell_type": "markdown",
   "metadata": {},
   "source": [
    "#  The Preliminaries: A Crashcourse\n",
    "\n",
    ":label:`chapter_crashcourse`\n",
    "\n",
    "\n",
    "To get started with deep learning,\n",
    "we will need to develop a few basic skills.\n",
    "All machine learning is concerned\n",
    "with extracting information from data.\n",
    "So we will begin by learning the practical skills\n",
    "for storing and manipulating data with Apache MXNet.\n",
    "Moreover machine learning typically requires\n",
    "working with large datasets, which we can think of as tables,\n",
    "where the rows correspond to examples\n",
    "and the columns correspond to attributes.\n",
    "Linear algebra gives us a powerful set of techniques\n",
    "for working with tabular data.\n",
    "We won't go too far into the weeds but rather focus on the basic\n",
    "of matrix operations and their implementation in Apache MXNet.\n",
    "Additionally, deep learning is all about optimization.\n",
    "We have a model with some parameters and\n",
    "we want to find those that fit our data the *best*.\n",
    "Determining which way to move each parameter at each step of an algorithm\n",
    "requires a little bit of calculus.\n",
    "Fortunately, Apache MXNet's autograd package covers this for us,\n",
    "and we will cover it next.\n",
    "Next, machine learning is concerned with making predictions:\n",
    "*what is the likely value of some unknown attribute,\n",
    "given the information that we observe?*\n",
    "To reason rigorously under uncertainty\n",
    "we will need to invoke the language of probability and statistics.\n",
    "To conclude the chapter, we will present\n",
    "your first basic classifier, *Naive Bayes*."
   ]
  },
  {
   "cell_type": "markdown",
   "metadata": {},
   "source": [
    "```toc\n",
    ":maxdepth: 2\n",
    "\n",
    "ndarray\n",
    "linear-algebra\n",
    "autograd\n",
    "probability\n",
    "naive-bayes\n",
    "lookup-api\n",
    "```\n"
   ]
  }
 ],
 "metadata": {
  "language_info": {
   "name": "python"
  }
 },
 "nbformat": 4,
 "nbformat_minor": 2
}