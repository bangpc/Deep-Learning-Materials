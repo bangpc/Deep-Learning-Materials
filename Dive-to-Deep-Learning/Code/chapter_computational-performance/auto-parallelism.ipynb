{
 "cells": [
  {
   "cell_type": "markdown",
   "metadata": {},
   "source": [
    "# Automatic Parallelism\n",
    "\n",
    ":label:`chapter_auto_para`\n",
    "\n",
    "\n",
    "MXNet automatically constructs computational graphs at the back end. Using a\n",
    "computational graph, the system is aware of all the computational dependencies,\n",
    "and can selectively execute multiple non-interdependent tasks in parallel to\n",
    "improve computing performance. For instance, the first example in\n",
    ":numref:`chapter_async` executes `a = nd.ones((1, 2))` and `b = nd.ones((1, 2))`\n",
    "in turn. There is no dependency between these two steps, so the system can\n",
    "choose to execute them in parallel.\n",
    "\n",
    "Typically, a single operator will use all the computational resources on all CPUs or a single GPU. For example, the `dot` operator will use all threads on all CPUs (even if there are multiple CPU processors on a single machine) or a single GPU. If computational load of each operator is large enough and multiple operators are run in parallel on only on the CPU or a single GPU, then the operations of each operator can only receive a portion of computational resources of CPU or single GPU. Even if these computations can be parallelized, the ultimate increase in computing performance may not be significant. In this section, our discussion of automatic parallel computation mainly focuses on parallel computation using both CPUs and GPUs, as well as the parallelization of computation and communication.\n",
    "\n",
    "First, import the required packages or modules for experiment in this section. Note that we need at least one GPU to run the experiment in this section."
   ]
  },
  {
   "cell_type": "code",
   "execution_count": 1,
   "metadata": {},
   "outputs": [],
   "source": [
    "import d2l\n",
    "from mxnet import nd, context"
   ]
  },
  {
   "cell_type": "markdown",
   "metadata": {},
   "source": [
    "## Parallel Computation using CPUs and GPUs\n",
    "\n",
    "First, we will discuss parallel computation using CPUs and GPUs, for example, when computation in a program occurs both on the CPU and a GPU. First, define the `run` function so that it performs 10 matrix multiplications."
   ]
  },
  {
   "cell_type": "code",
   "execution_count": 2,
   "metadata": {},
   "outputs": [],
   "source": [
    "def run(x):\n",
    "    return [nd.dot(x, x) for _ in range(10)]"
   ]
  },
  {
   "cell_type": "markdown",
   "metadata": {},
   "source": [
    "Next, create an NDArray on both the CPU and GPU."
   ]
  },
  {
   "cell_type": "code",
   "execution_count": 3,
   "metadata": {},
   "outputs": [],
   "source": [
    "x_cpu = nd.random.uniform(shape=(2000, 2000))\n",
    "x_gpu = nd.random.uniform(shape=(6000, 6000), ctx=d2l.try_gpu())"
   ]
  },
  {
   "cell_type": "markdown",
   "metadata": {},
   "source": [
    "Then, use the two NDArrays to run the `run` function on both the CPU and GPU and print the time required."
   ]
  },
  {
   "cell_type": "code",
   "execution_count": 4,
   "metadata": {},
   "outputs": [
    {
     "name": "stdout",
     "output_type": "stream",
     "text": [
      "Run on cpu(0): 0.6219 sec\n"
     ]
    },
    {
     "name": "stdout",
     "output_type": "stream",
     "text": [
      "Run on gpu(0): 0.3017 sec\n"
     ]
    }
   ],
   "source": [
    "run(x_cpu)  # Warm-up begins\n",
    "run(x_gpu)\n",
    "nd.waitall()  # Warm-up ends\n",
    "\n",
    "timer = d2l.Timer()\n",
    "run(x_cpu)\n",
    "nd.waitall()\n",
    "print('Run on %s: %.4f sec' % (x_cpu.context, timer.stop()))\n",
    "\n",
    "timer.start()\n",
    "run(x_gpu)\n",
    "nd.waitall()\n",
    "print('Run on %s: %.4f sec' % (x_gpu.context, timer.stop()))"
   ]
  },
  {
   "cell_type": "markdown",
   "metadata": {},
   "source": [
    "We remove `nd.waitall()` between the two computing tasks `run(x_cpu)` and `run(x_gpu)` and hope the system can automatically parallel these two tasks."
   ]
  },
  {
   "cell_type": "code",
   "execution_count": 5,
   "metadata": {},
   "outputs": [
    {
     "name": "stdout",
     "output_type": "stream",
     "text": [
      "Run on both cpu(0) and gpu(0): 0.6236 sec\n"
     ]
    }
   ],
   "source": [
    "timer.start()\n",
    "run(x_cpu)\n",
    "run(x_gpu)\n",
    "nd.waitall()\n",
    "print('Run on both %s and %s: %.4f sec' % (\n",
    "    x_cpu.context, x_gpu.context, timer.stop()))"
   ]
  },
  {
   "cell_type": "markdown",
   "metadata": {},
   "source": [
    "As we can see, when two computing tasks are executed together, the total execution time is less than the sum of their separate execution times. This means that MXNet can effectively automate parallel computation on CPUs and GPUs.\n",
    "\n",
    "\n",
    "## Parallel Computation of Computing and Communication\n",
    "\n",
    "In computations that use both the CPU and GPU, we often need to copy data between the CPU and GPU, resulting in data communication. In the example below, we compute on the GPU and then copy the results back to the CPU. We print the GPU computation time and the communication time from the GPU to CPU."
   ]
  },
  {
   "cell_type": "code",
   "execution_count": 6,
   "metadata": {},
   "outputs": [
    {
     "name": "stdout",
     "output_type": "stream",
     "text": [
      "Run on gpu(0): 0.3030 sec\n"
     ]
    },
    {
     "name": "stdout",
     "output_type": "stream",
     "text": [
      "The copy to cpu(0): 0.5251 sec\n"
     ]
    }
   ],
   "source": [
    "def copy_to_cpu(x):\n",
    "    return [y.copyto(context.cpu()) for y in x]\n",
    "\n",
    "timer.start()\n",
    "y = run(x_gpu)\n",
    "nd.waitall()\n",
    "print('Run on %s: %.4f sec' % (x_gpu.context, timer.stop()))\n",
    "\n",
    "timer.start()\n",
    "y_cpu = copy_to_cpu(y)\n",
    "nd.waitall()\n",
    "print('The copy to %s: %.4f sec' % (y_cpu[0].context, timer.stop()))"
   ]
  },
  {
   "cell_type": "markdown",
   "metadata": {},
   "source": [
    "We remove the `waitall` function between computation and communication and print the total time need to complete both tasks."
   ]
  },
  {
   "cell_type": "code",
   "execution_count": 7,
   "metadata": {},
   "outputs": [
    {
     "name": "stdout",
     "output_type": "stream",
     "text": [
      "Run and copy in parallel: 0.5532 sec\n"
     ]
    }
   ],
   "source": [
    "timer.start()\n",
    "y = run(x_gpu)\n",
    "y_cpu = copy_to_cpu(y)\n",
    "nd.waitall()\n",
    "print('Run and copy in parallel: %.4f sec' % timer.stop())"
   ]
  },
  {
   "cell_type": "markdown",
   "metadata": {},
   "source": [
    "As we can see, the total time required to perform computation and communication is less than the sum of their separate execution times. It should be noted that this computation and communication task is different from the parallel computation task that simultaneously used the CPU and GPU described earlier in this section. Here, there is a dependency between execution and communication: `y[i]` must be computed before it can be copied to the CPU. Fortunately, the system can copy `y[i-1]` when computing `y[i]` to reduce the total running time of computation and communication.\n",
    "\n",
    "## Summary\n",
    "\n",
    "* MXNet can improve computing performance through automatic parallel computation, such as parallel computation using the CPU and GPU and the parallelization of computation and communication.\n",
    "\n",
    "\n",
    "## Exercises\n",
    "\n",
    "* 10 operations were performed in the `run` function defined in this section. There are no dependencies between them. Design an experiment to see if MXNet will automatically execute them in parallel.\n",
    "* Designing computation tasks that include more complex data dependencies, and run experiments to see if MXNet can obtain the correct results and improve computing performance.\n",
    "* When the computational load of an operator is small enough, parallel computation on only the CPU or a single GPU may also improve the computing performance. Design an experiment to verify this.\n",
    "\n",
    "## Scan the QR Code to [Discuss](https://discuss.mxnet.io/t/2382)\n",
    "\n",
    "![](../img/qr_auto-parallelism.svg)"
   ]
  }
 ],
 "metadata": {
  "language_info": {
   "name": "python"
  }
 },
 "nbformat": 4,
 "nbformat_minor": 2
}