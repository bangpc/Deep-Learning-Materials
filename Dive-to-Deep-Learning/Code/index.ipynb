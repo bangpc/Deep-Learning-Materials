{
 "cells": [
  {
   "cell_type": "markdown",
   "metadata": {},
   "source": [
    "Dive into Deep Learning\n",
    "========================"
   ]
  },
  {
   "cell_type": "markdown",
   "metadata": {},
   "source": [
    "```eval_rst\n",
    ".. raw:: html\n",
    "   :file: frontpage.html\n",
    "```\n"
   ]
  },
  {
   "cell_type": "markdown",
   "metadata": {},
   "source": [
    "```toc\n",
    ":maxdepth: 1\n",
    "\n",
    "chapter_preface/preface\n",
    "chapter_install/install\n",
    "```\n"
   ]
  },
  {
   "cell_type": "markdown",
   "metadata": {},
   "source": [
    "```toc\n",
    ":maxdepth: 2\n",
    ":numbered:\n",
    "\n",
    "chapter_introduction/intro\n",
    "chapter_crashcourse/index\n",
    "chapter_linear-networks/index\n",
    "chapter_multilayer-perceptrons/index\n",
    "chapter_deep-learning-computation/index\n",
    "chapter_convolutional-neural-networks/index\n",
    "chapter_convolutional-modern/index\n",
    "chapter_recurrent-neural-networks/index\n",
    "chapter_attention-mechanism/index\n",
    "chapter_optimization/index\n",
    "chapter_computational-performance/index\n",
    "chapter_computer-vision/index\n",
    "chapter_natural-language-processing/index\n",
    "chapter_generative_adversarial_networks/index\n",
    "chapter_appendix/index\n",
    "```\n"
   ]
  },
  {
   "cell_type": "markdown",
   "metadata": {},
   "source": [
    "```toc\n",
    ":maxdepth: 1\n",
    "\n",
    "chapter_references/zreferences\n",
    "```\n"
   ]
  }
 ],
 "metadata": {
  "language_info": {
   "name": "python"
  }
 },
 "nbformat": 4,
 "nbformat_minor": 2
}