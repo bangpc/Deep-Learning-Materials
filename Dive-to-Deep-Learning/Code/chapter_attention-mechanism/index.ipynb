{
 "cells": [
  {
   "cell_type": "markdown",
   "metadata": {},
   "source": [
    "# Attention Mechanism\n",
    "\n",
    ":label:`chapter_attention`\n",
    "\n",
    "\n",
    "Attention is a generalized pooling method with bias alignment over inputs."
   ]
  },
  {
   "cell_type": "markdown",
   "metadata": {},
   "source": [
    "```toc\n",
    ":maxdepth: 2\n",
    "\n",
    "attention\n",
    "seq2seq-attention\n",
    "transformer\n",
    "```\n"
   ]
  }
 ],
 "metadata": {
  "language_info": {
   "name": "python"
  }
 },
 "nbformat": 4,
 "nbformat_minor": 2
}