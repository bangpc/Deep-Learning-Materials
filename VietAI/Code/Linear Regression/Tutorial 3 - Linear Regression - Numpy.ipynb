{
 "cells": [
  {
   "cell_type": "markdown",
   "metadata": {
    "collapsed": true
   },
   "source": [
    "# Giới thiệu\n",
    "\n",
    "### Tổng quan\n",
    "\n",
    "Chào mừng đã đến bài lab đầu tiên trong Khóa học VietAI. Lần này bạn sẽ học cách tương tác với hai thư viện được biết đến nhiều nhất - Numpy và TensorFlow. Bài toán chúng ta sẽ giải quyết trong buổi hôm nay là linear regression.\n",
    "\n",
    "Trong lớp thí điểm này, các bài tập sẽ được áp dụng từ chương trình mở về khóa học sâu từ các trường đại học và nhiều nguồn mở khác.\n",
    " \n",
    "### Mục tiêu học tập\n",
    "\n",
    "* Hiểu thêm về cách hoạt động của Numpy và Tensorflow \n",
    "* Có thể viết một thuật toán đơn giản (và debug) với `Tensorflow` và `Numpy` qua ví dụ về hồi quy tuyến tính.\n",
    "* Hiểu thêm về hồi quy tuyến tính.\n",
    "\n",
    "# Giới thiệu\n",
    "\n",
    "Bài toán lần này, chúng ta sẽ cùng nhau dự đoán giá nhà tại một thành phố Boston ở Mỹ với kích thước mẫu với 506 giá trị với 13 thuộc tính như sau\n",
    "\n",
    "```\n",
    "- CRIM per capita crime rate by town\n",
    "- ZN proportion of residential land zoned for lots over 25,000 sq.ft.\n",
    "- INDUS proportion of non-retail business acres per town\n",
    "- CHAS Charles River dummy variable (= 1 if tract bounds river; 0 otherwise)\n",
    "- NOX nitric oxides concentration (parts per 10 million)\n",
    "- RM average number of rooms per dwelling\n",
    "- AGE proportion of owner-occupied units built prior to 1940\n",
    "- DIS weighted distances to five Boston employment centres\n",
    "- RAD index of accessibility to radial highways\n",
    "- TAX full-value property-tax rate per $10,000\n",
    "- PTRATIO pupil-teacher ratio by town\n",
    "- B 1000(Bk - 0.63)ˆ2 where Bk is the proportion of blacks by town\n",
    "- LSTAT % lower status of the population\n",
    "- MEDV Median value of owner-occupied homes in $1000's\n",
    "```\n",
    "\n",
    "Với thông tin này, ta sẽ cùng nhau tiến hành xây dựng một hàm giả thuyết theo mô hình hồi quy tuyến tính dựa trên `numpy` và `tensorflow` để đưa ra giá nhà dựa trên ít nhất là 2 thuộc tính."
   ]
  },
  {
   "cell_type": "code",
   "execution_count": 1,
   "metadata": {},
   "outputs": [
    {
     "name": "stdout",
     "output_type": "stream",
     "text": [
      "Requirement already satisfied: tensorflow in c:\\users\\bangpc\\anaconda3\\lib\\site-packages (from -r requirements.txt (line 1)) (1.14.0)\n",
      "Requirement already satisfied: numpy in c:\\users\\bangpc\\anaconda3\\lib\\site-packages (from -r requirements.txt (line 2)) (1.16.4)\n",
      "Requirement already satisfied: matplotlib in c:\\users\\bangpc\\anaconda3\\lib\\site-packages (from -r requirements.txt (line 3)) (3.1.0)\n",
      "Requirement already satisfied: jupyter in c:\\users\\bangpc\\anaconda3\\lib\\site-packages (from -r requirements.txt (line 4)) (1.0.0)\n",
      "Requirement already satisfied: sklearn in c:\\users\\bangpc\\anaconda3\\lib\\site-packages (from -r requirements.txt (line 5)) (0.0)\n",
      "Requirement already satisfied: scipy in c:\\users\\bangpc\\anaconda3\\lib\\site-packages (from -r requirements.txt (line 6)) (1.2.1)\n",
      "Requirement already satisfied: seaborn in c:\\users\\bangpc\\anaconda3\\lib\\site-packages (from -r requirements.txt (line 7)) (0.9.0)\n",
      "Requirement already satisfied: six>=1.10.0 in c:\\users\\bangpc\\anaconda3\\lib\\site-packages (from tensorflow->-r requirements.txt (line 1)) (1.12.0)\n",
      "Requirement already satisfied: wrapt>=1.11.1 in c:\\users\\bangpc\\anaconda3\\lib\\site-packages (from tensorflow->-r requirements.txt (line 1)) (1.11.2)\n",
      "Requirement already satisfied: keras-applications>=1.0.6 in c:\\users\\bangpc\\anaconda3\\lib\\site-packages (from tensorflow->-r requirements.txt (line 1)) (1.0.8)\n",
      "Requirement already satisfied: keras-preprocessing>=1.0.5 in c:\\users\\bangpc\\anaconda3\\lib\\site-packages (from tensorflow->-r requirements.txt (line 1)) (1.1.0)\n",
      "Requirement already satisfied: grpcio>=1.8.6 in c:\\users\\bangpc\\anaconda3\\lib\\site-packages (from tensorflow->-r requirements.txt (line 1)) (1.23.0)\n",
      "Requirement already satisfied: tensorboard<1.15.0,>=1.14.0 in c:\\users\\bangpc\\anaconda3\\lib\\site-packages (from tensorflow->-r requirements.txt (line 1)) (1.14.0)\n",
      "Requirement already satisfied: absl-py>=0.7.0 in c:\\users\\bangpc\\anaconda3\\lib\\site-packages (from tensorflow->-r requirements.txt (line 1)) (0.7.1)\n",
      "Requirement already satisfied: termcolor>=1.1.0 in c:\\users\\bangpc\\anaconda3\\lib\\site-packages (from tensorflow->-r requirements.txt (line 1)) (1.1.0)\n",
      "Requirement already satisfied: tensorflow-estimator<1.15.0rc0,>=1.14.0rc0 in c:\\users\\bangpc\\anaconda3\\lib\\site-packages (from tensorflow->-r requirements.txt (line 1)) (1.14.0)\n",
      "Requirement already satisfied: protobuf>=3.6.1 in c:\\users\\bangpc\\anaconda3\\lib\\site-packages (from tensorflow->-r requirements.txt (line 1)) (3.9.1)\n",
      "Requirement already satisfied: gast>=0.2.0 in c:\\users\\bangpc\\anaconda3\\lib\\site-packages (from tensorflow->-r requirements.txt (line 1)) (0.2.2)\n",
      "Requirement already satisfied: wheel>=0.26 in c:\\users\\bangpc\\anaconda3\\lib\\site-packages (from tensorflow->-r requirements.txt (line 1)) (0.33.4)\n",
      "Requirement already satisfied: astor>=0.6.0 in c:\\users\\bangpc\\anaconda3\\lib\\site-packages (from tensorflow->-r requirements.txt (line 1)) (0.8.0)\n",
      "Requirement already satisfied: google-pasta>=0.1.6 in c:\\users\\bangpc\\anaconda3\\lib\\site-packages (from tensorflow->-r requirements.txt (line 1)) (0.1.7)\n",
      "Requirement already satisfied: cycler>=0.10 in c:\\users\\bangpc\\anaconda3\\lib\\site-packages (from matplotlib->-r requirements.txt (line 3)) (0.10.0)\n",
      "Requirement already satisfied: kiwisolver>=1.0.1 in c:\\users\\bangpc\\anaconda3\\lib\\site-packages (from matplotlib->-r requirements.txt (line 3)) (1.1.0)\n",
      "Requirement already satisfied: pyparsing!=2.0.4,!=2.1.2,!=2.1.6,>=2.0.1 in c:\\users\\bangpc\\anaconda3\\lib\\site-packages (from matplotlib->-r requirements.txt (line 3)) (2.4.0)\n",
      "Requirement already satisfied: python-dateutil>=2.1 in c:\\users\\bangpc\\anaconda3\\lib\\site-packages (from matplotlib->-r requirements.txt (line 3)) (2.8.0)\n",
      "Requirement already satisfied: nbconvert in c:\\users\\bangpc\\anaconda3\\lib\\site-packages (from jupyter->-r requirements.txt (line 4)) (5.5.0)\n",
      "Requirement already satisfied: qtconsole in c:\\users\\bangpc\\anaconda3\\lib\\site-packages (from jupyter->-r requirements.txt (line 4)) (4.5.1)\n",
      "Requirement already satisfied: ipykernel in c:\\users\\bangpc\\anaconda3\\lib\\site-packages (from jupyter->-r requirements.txt (line 4)) (5.1.1)\n",
      "Requirement already satisfied: ipywidgets in c:\\users\\bangpc\\anaconda3\\lib\\site-packages (from jupyter->-r requirements.txt (line 4)) (7.5.0)\n",
      "Requirement already satisfied: notebook in c:\\users\\bangpc\\anaconda3\\lib\\site-packages (from jupyter->-r requirements.txt (line 4)) (6.0.0)\n",
      "Requirement already satisfied: jupyter-console in c:\\users\\bangpc\\anaconda3\\lib\\site-packages (from jupyter->-r requirements.txt (line 4)) (6.0.0)\n",
      "Requirement already satisfied: scikit-learn in c:\\users\\bangpc\\anaconda3\\lib\\site-packages (from sklearn->-r requirements.txt (line 5)) (0.21.2)\n",
      "Requirement already satisfied: pandas>=0.15.2 in c:\\users\\bangpc\\anaconda3\\lib\\site-packages (from seaborn->-r requirements.txt (line 7)) (0.24.2)\n",
      "Requirement already satisfied: h5py in c:\\users\\bangpc\\anaconda3\\lib\\site-packages (from keras-applications>=1.0.6->tensorflow->-r requirements.txt (line 1)) (2.9.0)\n",
      "Requirement already satisfied: setuptools>=41.0.0 in c:\\users\\bangpc\\anaconda3\\lib\\site-packages (from tensorboard<1.15.0,>=1.14.0->tensorflow->-r requirements.txt (line 1)) (41.0.1)\n",
      "Requirement already satisfied: markdown>=2.6.8 in c:\\users\\bangpc\\anaconda3\\lib\\site-packages (from tensorboard<1.15.0,>=1.14.0->tensorflow->-r requirements.txt (line 1)) (3.1.1)\n",
      "Requirement already satisfied: werkzeug>=0.11.15 in c:\\users\\bangpc\\anaconda3\\lib\\site-packages (from tensorboard<1.15.0,>=1.14.0->tensorflow->-r requirements.txt (line 1)) (0.15.4)\n",
      "Requirement already satisfied: traitlets>=4.2 in c:\\users\\bangpc\\anaconda3\\lib\\site-packages (from nbconvert->jupyter->-r requirements.txt (line 4)) (4.3.2)\n",
      "Requirement already satisfied: mistune>=0.8.1 in c:\\users\\bangpc\\anaconda3\\lib\\site-packages (from nbconvert->jupyter->-r requirements.txt (line 4)) (0.8.4)\n",
      "Requirement already satisfied: nbformat>=4.4 in c:\\users\\bangpc\\anaconda3\\lib\\site-packages (from nbconvert->jupyter->-r requirements.txt (line 4)) (4.4.0)\n",
      "Requirement already satisfied: pandocfilters>=1.4.1 in c:\\users\\bangpc\\anaconda3\\lib\\site-packages (from nbconvert->jupyter->-r requirements.txt (line 4)) (1.4.2)\n",
      "Requirement already satisfied: bleach in c:\\users\\bangpc\\anaconda3\\lib\\site-packages (from nbconvert->jupyter->-r requirements.txt (line 4)) (3.1.0)\n",
      "Requirement already satisfied: defusedxml in c:\\users\\bangpc\\anaconda3\\lib\\site-packages (from nbconvert->jupyter->-r requirements.txt (line 4)) (0.6.0)\n",
      "Requirement already satisfied: testpath in c:\\users\\bangpc\\anaconda3\\lib\\site-packages (from nbconvert->jupyter->-r requirements.txt (line 4)) (0.4.2)\n",
      "Requirement already satisfied: entrypoints>=0.2.2 in c:\\users\\bangpc\\anaconda3\\lib\\site-packages (from nbconvert->jupyter->-r requirements.txt (line 4)) (0.3)\n",
      "Requirement already satisfied: jupyter-core in c:\\users\\bangpc\\anaconda3\\lib\\site-packages (from nbconvert->jupyter->-r requirements.txt (line 4)) (4.5.0)\n",
      "Requirement already satisfied: pygments in c:\\users\\bangpc\\anaconda3\\lib\\site-packages (from nbconvert->jupyter->-r requirements.txt (line 4)) (2.4.2)\n",
      "Requirement already satisfied: jinja2>=2.4 in c:\\users\\bangpc\\anaconda3\\lib\\site-packages (from nbconvert->jupyter->-r requirements.txt (line 4)) (2.10.1)\n",
      "Requirement already satisfied: jupyter-client>=4.1 in c:\\users\\bangpc\\anaconda3\\lib\\site-packages (from qtconsole->jupyter->-r requirements.txt (line 4)) (5.3.1)\n",
      "Requirement already satisfied: ipython-genutils in c:\\users\\bangpc\\anaconda3\\lib\\site-packages (from qtconsole->jupyter->-r requirements.txt (line 4)) (0.2.0)\n",
      "Requirement already satisfied: ipython>=5.0.0 in c:\\users\\bangpc\\anaconda3\\lib\\site-packages (from ipykernel->jupyter->-r requirements.txt (line 4)) (7.6.1)\n",
      "Requirement already satisfied: tornado>=4.2 in c:\\users\\bangpc\\anaconda3\\lib\\site-packages (from ipykernel->jupyter->-r requirements.txt (line 4)) (6.0.3)\n",
      "Requirement already satisfied: widgetsnbextension~=3.5.0 in c:\\users\\bangpc\\anaconda3\\lib\\site-packages (from ipywidgets->jupyter->-r requirements.txt (line 4)) (3.5.0)\n",
      "Requirement already satisfied: prometheus-client in c:\\users\\bangpc\\anaconda3\\lib\\site-packages (from notebook->jupyter->-r requirements.txt (line 4)) (0.7.1)\n",
      "Requirement already satisfied: terminado>=0.8.1 in c:\\users\\bangpc\\anaconda3\\lib\\site-packages (from notebook->jupyter->-r requirements.txt (line 4)) (0.8.2)\n",
      "Requirement already satisfied: pyzmq>=17 in c:\\users\\bangpc\\anaconda3\\lib\\site-packages (from notebook->jupyter->-r requirements.txt (line 4)) (18.0.0)\n",
      "Requirement already satisfied: Send2Trash in c:\\users\\bangpc\\anaconda3\\lib\\site-packages (from notebook->jupyter->-r requirements.txt (line 4)) (1.5.0)\n",
      "Requirement already satisfied: prompt_toolkit<2.1.0,>=2.0.0 in c:\\users\\bangpc\\anaconda3\\lib\\site-packages (from jupyter-console->jupyter->-r requirements.txt (line 4)) (2.0.9)\n",
      "Requirement already satisfied: joblib>=0.11 in c:\\users\\bangpc\\anaconda3\\lib\\site-packages (from scikit-learn->sklearn->-r requirements.txt (line 5)) (0.13.2)\n",
      "Requirement already satisfied: pytz>=2011k in c:\\users\\bangpc\\anaconda3\\lib\\site-packages (from pandas>=0.15.2->seaborn->-r requirements.txt (line 7)) (2019.1)\n",
      "Requirement already satisfied: decorator in c:\\users\\bangpc\\anaconda3\\lib\\site-packages (from traitlets>=4.2->nbconvert->jupyter->-r requirements.txt (line 4)) (4.4.0)\n",
      "Requirement already satisfied: jsonschema!=2.5.0,>=2.4 in c:\\users\\bangpc\\anaconda3\\lib\\site-packages (from nbformat>=4.4->nbconvert->jupyter->-r requirements.txt (line 4)) (3.0.1)\n",
      "Requirement already satisfied: webencodings in c:\\users\\bangpc\\anaconda3\\lib\\site-packages (from bleach->nbconvert->jupyter->-r requirements.txt (line 4)) (0.5.1)\n",
      "Requirement already satisfied: MarkupSafe>=0.23 in c:\\users\\bangpc\\anaconda3\\lib\\site-packages (from jinja2>=2.4->nbconvert->jupyter->-r requirements.txt (line 4)) (1.1.1)\n",
      "Requirement already satisfied: colorama; sys_platform == \"win32\" in c:\\users\\bangpc\\anaconda3\\lib\\site-packages (from ipython>=5.0.0->ipykernel->jupyter->-r requirements.txt (line 4)) (0.4.1)\n",
      "Requirement already satisfied: jedi>=0.10 in c:\\users\\bangpc\\anaconda3\\lib\\site-packages (from ipython>=5.0.0->ipykernel->jupyter->-r requirements.txt (line 4)) (0.13.3)\n",
      "Requirement already satisfied: backcall in c:\\users\\bangpc\\anaconda3\\lib\\site-packages (from ipython>=5.0.0->ipykernel->jupyter->-r requirements.txt (line 4)) (0.1.0)\n",
      "Requirement already satisfied: pickleshare in c:\\users\\bangpc\\anaconda3\\lib\\site-packages (from ipython>=5.0.0->ipykernel->jupyter->-r requirements.txt (line 4)) (0.7.5)\n",
      "Requirement already satisfied: wcwidth in c:\\users\\bangpc\\anaconda3\\lib\\site-packages (from prompt_toolkit<2.1.0,>=2.0.0->jupyter-console->jupyter->-r requirements.txt (line 4)) (0.1.7)\n",
      "Requirement already satisfied: attrs>=17.4.0 in c:\\users\\bangpc\\anaconda3\\lib\\site-packages (from jsonschema!=2.5.0,>=2.4->nbformat>=4.4->nbconvert->jupyter->-r requirements.txt (line 4)) (19.1.0)\n",
      "Requirement already satisfied: pyrsistent>=0.14.0 in c:\\users\\bangpc\\anaconda3\\lib\\site-packages (from jsonschema!=2.5.0,>=2.4->nbformat>=4.4->nbconvert->jupyter->-r requirements.txt (line 4)) (0.14.11)\n",
      "Requirement already satisfied: parso>=0.3.0 in c:\\users\\bangpc\\anaconda3\\lib\\site-packages (from jedi>=0.10->ipython>=5.0.0->ipykernel->jupyter->-r requirements.txt (line 4)) (0.5.0)\n"
     ]
    }
   ],
   "source": [
    "!pip install -r requirements.txt"
   ]
  },
  {
   "cell_type": "markdown",
   "metadata": {},
   "source": [
    "### I/ Tìm nghiệm bài toán Linear Regression bằng `Numpy`"
   ]
  },
  {
   "cell_type": "markdown",
   "metadata": {},
   "source": [
    "#### Nhập thư viện"
   ]
  },
  {
   "cell_type": "code",
   "execution_count": 2,
   "metadata": {},
   "outputs": [],
   "source": [
    "import numpy as np\n",
    "import pandas as pd\n",
    "import matplotlib.pyplot as plt\n",
    "%matplotlib inline"
   ]
  },
  {
   "cell_type": "markdown",
   "metadata": {},
   "source": [
    "#### Đọc dữ liệu"
   ]
  },
  {
   "cell_type": "code",
   "execution_count": 3,
   "metadata": {},
   "outputs": [
    {
     "name": "stdout",
     "output_type": "stream",
     "text": [
      "Selected original features are ['INDUS' 'RM']\n"
     ]
    }
   ],
   "source": [
    "from utils_function import load_Boston_housing_data\n",
    "\n",
    "train_X, test_X, train_Y, test_Y = load_Boston_housing_data(feature_ind = [2,5])"
   ]
  },
  {
   "cell_type": "markdown",
   "metadata": {},
   "source": [
    "Vừa rồi, ta vừa mới tải tập dữ liệu xuống và chiết ra thành 4 tập. \n",
    "\n",
    "Trong đó, `train_X` và `train_Y` được dùng để xây dựng mô hình. Còn `test_X`, `test_Y` được giữ lại và chỉ được dùng để đánh giá độ tốt của mô hình ở phút cuối. \n",
    "\n",
    "Tỉ lệ được chia ra giữa các phần xây dựng và kiểm chứng là 1:4 Sau này, chúng ta sẽ học kỹ hơn về phần này nên phần đánh giá độ tốt của mô hình mình chỉ dừng lại ở mức là thực thi câu hàm đánh giá.\n",
    "\n",
    "Để đơn giản, dữ liệu được lấy vào chỉ gồm 2 đặc tính\n",
    "\n",
    "```\n",
    "    - INDUS proportion of non-retail business acres per town\n",
    "    - RM average number of rooms per dwelling\n",
    "```\n",
    "\n",
    "Tạm dịch\n",
    "\n",
    "```\n",
    "    - INDUS: tỷ lệ diện tích không dùng cho kinh doanh bán lẻ mỗi thị trấn\n",
    "    - RM: số phòng trung bình mỗi căn hộ/ nhà\n",
    "```"
   ]
  },
  {
   "cell_type": "markdown",
   "metadata": {},
   "source": [
    "Bạn có thể lấy thêm các đặc tính khác qua việc thiết lập lại hàm `load_data` như sau"
   ]
  },
  {
   "cell_type": "code",
   "execution_count": 4,
   "metadata": {},
   "outputs": [],
   "source": [
    "load_Boston_housing_data?"
   ]
  },
  {
   "cell_type": "markdown",
   "metadata": {},
   "source": [
    "Để hiểu thêm về tập dữ liệu ta có thể làm thêm một số minh họa như sau"
   ]
  },
  {
   "cell_type": "markdown",
   "metadata": {},
   "source": [
    "#### Minh họa dữ liệu"
   ]
  },
  {
   "cell_type": "code",
   "execution_count": 5,
   "metadata": {},
   "outputs": [
    {
     "data": {
      "image/png": "[encoded data removed]",
      "text/plain": [
       "<Figure size 432x288 with 1 Axes>"
      ]
     },
     "metadata": {
      "needs_background": "light"
     },
     "output_type": "display_data"
    },
    {
     "data": {
      "image/png": "[encoded data removed]",
      "text/plain": [
       "<Figure size 432x288 with 1 Axes>"
      ]
     },
     "metadata": {
      "needs_background": "light"
     },
     "output_type": "display_data"
    }
   ],
   "source": [
    "from utils_function import scatter_plot\n",
    "\n",
    "scatter_plot(train_X[:, 0], train_Y,\\\n",
    "            title=\"Industrialness vs Med House Price\",\\\n",
    "            x_label = \"Industrialness\",\\\n",
    "            y_label = \"Med House Price\")\n",
    "\n",
    "\n",
    "scatter_plot(train_X[:, 1], train_Y,\\\n",
    "            title=\"Avg Num Rooms vs Med House Price\",\\\n",
    "            x_label = \"Avg Num Rooms\",\\\n",
    "            y_label = \"Med House Price\")"
   ]
  },
  {
   "cell_type": "markdown",
   "metadata": {},
   "source": [
    "Hiên thời, vecto của ta đang có dạng như sau:"
   ]
  },
  {
   "cell_type": "code",
   "execution_count": 6,
   "metadata": {},
   "outputs": [
    {
     "name": "stdout",
     "output_type": "stream",
     "text": [
      "Size of data X train matrix (404, 2)\n",
      "Size of data Y train array (404,)\n",
      "Size of data X test matrix (102, 2)\n",
      "Size of data Y test array (102,)\n"
     ]
    }
   ],
   "source": [
    "print(\"Size of data X train matrix %s\"  % str(train_X.shape))\n",
    "print(\"Size of data Y train array %s\"  % str(train_Y.shape))\n",
    "print(\"Size of data X test matrix %s\"  % str(test_X.shape))\n",
    "print(\"Size of data Y test array %s\"  % str(test_Y.shape))"
   ]
  },
  {
   "cell_type": "markdown",
   "metadata": {},
   "source": [
    "#### Bài 1. Viết hàm cost function\n",
    "Nhắc lại, từ công thức tính **mean squared error**, ta có:\n",
    "$$\\mathcal{E}(\\hat{y}, y) = \\frac{1}{2N} \\sum_{i=1}^N (\\hat{y}^{(i)}-y^{(i)})^2 $$\n",
    "Khai triển, kết quả có là\n",
    "$$\\mathcal{E}(\\hat{y}, y) = \\frac{1}{2N} \\sum_{i=1}^N (w_1 x_1^{(i)} + w_2 x_2^{(i)} + b - y^{(i)})^2 $$"
   ]
  },
  {
   "cell_type": "markdown",
   "metadata": {},
   "source": [
    "#### 1.1. Viết chương trình"
   ]
  },
  {
   "cell_type": "code",
   "execution_count": 7,
   "metadata": {},
   "outputs": [],
   "source": [
    "def np_cost(w, b, X, y):\n",
    "    '''\n",
    "    Evaluate the cost function in a non-vectorized manner for \n",
    "    inputs `X` and targets `y`, at weights `w` and `b`.\n",
    "    \n",
    "    X: 2D array dataset that has (N, d) dimension. \n",
    "    y: list of targets that has (N, 1) dimension.\n",
    "    w: list of weights that has (d, 1) dimension\n",
    "    b: a scalar bias.\n",
    "    \n",
    "    Return a scalar cost value of `w`, `b`.\n",
    "    '''\n",
    "    \n",
    "    costs = 0\n",
    "    N = len(y)\n",
    "    for i in range(len(y)):\n",
    "        \n",
    "        # TODO: complete below expression to calculate cost function\n",
    "        y_hat = w[0] * X[i,0] + w[1] * X[i,1] + b  # hypothesis\n",
    "        costs += (y_hat - y[i]) ** 2# sum cost of each data point.\n",
    "    \n",
    "    return costs / (2 * N)"
   ]
  },
  {
   "cell_type": "markdown",
   "metadata": {},
   "source": [
    "#### 1.2 Chạy thử chương trình "
   ]
  },
  {
   "cell_type": "code",
   "execution_count": 8,
   "metadata": {},
   "outputs": [
    {
     "data": {
      "text/plain": [
       "2256.1627893564355"
      ]
     },
     "execution_count": 8,
     "metadata": {},
     "output_type": "execute_result"
    }
   ],
   "source": [
    "np_cost([3, 5], 20, train_X, train_Y) # 2256.1627893564355\n"
   ]
  },
  {
   "cell_type": "code",
   "execution_count": 9,
   "metadata": {},
   "outputs": [
    {
     "data": {
      "text/plain": [
       "1210.8142745049508"
      ]
     },
     "execution_count": 9,
     "metadata": {},
     "output_type": "execute_result"
    }
   ],
   "source": [
    "np_cost([3, 5], 0, train_X, train_Y) # 1210.8142745049508"
   ]
  },
  {
   "cell_type": "markdown",
   "metadata": {},
   "source": [
    "#### Bài 2. Vector hóa hàm cost\n",
    "\n",
    "Ngoài ra, ta còn có thể viết lại công thức trên như sau:\n",
    "\n",
    "$$\\mathcal{E}(\\hat{y}, y) = \\frac{1}{2N} \\| \\bf{X} \\bf{w} + b \\mathbb{1} - \\bf{y} \\| ^2$$ "
   ]
  },
  {
   "cell_type": "markdown",
   "metadata": {},
   "source": [
    "#### 2.1 Viết chương trình"
   ]
  },
  {
   "cell_type": "code",
   "execution_count": 10,
   "metadata": {},
   "outputs": [],
   "source": [
    "def np_cost_vectorized(w, b, X, y):\n",
    "    '''\n",
    "    Evaluate the cost function in a vectorized manner for \n",
    "    inputs `X` and targets `t`, at weights `w` and `b`.\n",
    "    \n",
    "    X: dataset matrix has (N, d) dimension. \n",
    "    y: targets vector has (N, 1) dimension.\n",
    "    w: weights vector has (d, 1) dimension\n",
    "    b: a scalar bias.\n",
    "    \n",
    "    Return a scalar cost value of `w`, `b`.\n",
    "    '''\n",
    "    \n",
    "    #TODO: Complete the following expression\n",
    "    N = len(y) # number of dataset\n",
    "    w = np.asarray(w) # convert to numpy array\n",
    "    y_hat = np.dot(X,w) + b # hypothesis\n",
    "    \n",
    "    return np.sum((y_hat - y)**2) / (2.0 * N)"
   ]
  },
  {
   "cell_type": "markdown",
   "metadata": {},
   "source": [
    "#### 2.2 Chạy thử chương trình"
   ]
  },
  {
   "cell_type": "code",
   "execution_count": 11,
   "metadata": {},
   "outputs": [
    {
     "data": {
      "text/plain": [
       "2256.1627893564355"
      ]
     },
     "execution_count": 11,
     "metadata": {},
     "output_type": "execute_result"
    }
   ],
   "source": [
    "np_cost_vectorized([3, 5], 20, train_X, train_Y) # 2256.1627893564355"
   ]
  },
  {
   "cell_type": "code",
   "execution_count": 12,
   "metadata": {},
   "outputs": [
    {
     "data": {
      "text/plain": [
       "1210.8142745049504"
      ]
     },
     "execution_count": 12,
     "metadata": {},
     "output_type": "execute_result"
    }
   ],
   "source": [
    "np_cost_vectorized([3, 5], 0, train_X, train_Y) # 1210.8142745049508"
   ]
  },
  {
   "cell_type": "markdown",
   "metadata": {},
   "source": [
    "### Tìm nghiệm chính xác"
   ]
  },
  {
   "cell_type": "markdown",
   "metadata": {},
   "source": [
    "#### Bài 3. Tính nghiệm chính xác"
   ]
  },
  {
   "cell_type": "markdown",
   "metadata": {},
   "source": [
    "Để chuyển qua phép tính ma trận có dạng như sau $X *w + b$ ta cần bổ sung thêm một chiều cho hệ số tự do ở phần cuối của mỗi dòng trong ma trận. \n",
    "\n",
    "**Ví dụ** Lấy dòng đầu tiên của ma trận hiện thời, ta có: `array([ 6.2  ,  6.951 ])`   $\\,\\to\\,$  `array([ 6.2  ,  6.951,  1.   ])`"
   ]
  },
  {
   "cell_type": "markdown",
   "metadata": {},
   "source": [
    "#### 3. 1 Tái tạo vecto cho tập train"
   ]
  },
  {
   "cell_type": "code",
   "execution_count": 13,
   "metadata": {},
   "outputs": [],
   "source": [
    "# TODO: Add one at the end of each row in train_X by np.concatenate\n",
    "train_X_new = np.concatenate([train_X,np.ones((train_X.shape[0],1)) ] ,axis = 1)"
   ]
  },
  {
   "cell_type": "code",
   "execution_count": 14,
   "metadata": {},
   "outputs": [
    {
     "data": {
      "text/plain": [
       "array([6.2  , 6.951, 1.   ])"
      ]
     },
     "execution_count": 14,
     "metadata": {},
     "output_type": "execute_result"
    }
   ],
   "source": [
    "train_X_new[0]"
   ]
  },
  {
   "cell_type": "markdown",
   "metadata": {},
   "source": [
    "#### 3.2 Viết chương trình tính nghiệm\n",
    " \n",
    "$$\\theta = \\left(X^{\\rm T}X\\right)^{-1} \\left(X^{\\rm T}y \\right) =  A * c $$"
   ]
  },
  {
   "cell_type": "code",
   "execution_count": 15,
   "metadata": {},
   "outputs": [],
   "source": [
    "def np_solve_exactly(X, y):\n",
    "    '''\n",
    "    Solve linear regression exactly. (fully vectorized)\n",
    "    \n",
    "    Given `X` - NxD matrix of inputs\n",
    "          `t` - target outputs\n",
    "    Return the optimal weights as a D-dimensional vector\n",
    "\n",
    "    '''\n",
    "    \n",
    "    #TODO: Complete the below followed the above expressions\n",
    "    A = np.dot(X.T, X)\n",
    "    c = np.dot(X.T,y)\n",
    "    \n",
    "    return np.dot(np.linalg.inv(A), c)"
   ]
  },
  {
   "cell_type": "markdown",
   "metadata": {},
   "source": [
    "#### 3.3 Chạy thử chương trình"
   ]
  },
  {
   "cell_type": "code",
   "execution_count": 16,
   "metadata": {},
   "outputs": [
    {
     "name": "stdout",
     "output_type": "stream",
     "text": [
      "W: [ -0.37785864   7.83254633 -22.54414787]\n",
      "Cost: 18.501517485624337\n"
     ]
    }
   ],
   "source": [
    "opt_w_exactly = np_solve_exactly(train_X_new, train_Y)\n",
    "print(\"W:\",opt_w_exactly) # [ -0.37785864   7.83254633 -22.54414787]\n",
    "print(\"Cost:\", np_cost_vectorized(opt_w_exactly[:2], opt_w_exactly[2], train_X, train_Y)) # 18.501517485624333"
   ]
  },
  {
   "cell_type": "markdown",
   "metadata": {},
   "source": [
    "### Tìm nghiệm xấp xỉ bằng `Numpy`\n"
   ]
  },
  {
   "cell_type": "markdown",
   "metadata": {},
   "source": [
    "#### Bài 4. Véc-tơ hóa hàm tính grad\n",
    "\n",
    "Với $i = 1...m $ và $j = 1...n$ xét\n",
    "\n",
    "$$ \\frac{\\partial \\mathcal{E}}{\\partial w_j} = \\frac{1}{N}\\sum_i x_j^{(i)}(\\hat{y}^{(i)}-y^{(i)}) $$\n",
    "\n",
    "\n",
    "\n",
    "#### 4.1 Viết chương trình"
   ]
  },
  {
   "cell_type": "code",
   "execution_count": 17,
   "metadata": {},
   "outputs": [],
   "source": [
    "def np_grad_fn(weights, X, y):\n",
    "    '''\n",
    "    Given `weights` - a current \"Guess\" of what our weights should be\n",
    "          `X` - matrix of shape (N,D) of input features\n",
    "          `t` - target y values\n",
    "    Return gradient of each weight evaluated at the current value\n",
    "    '''\n",
    "    \n",
    "    #TODO: Complete the below followed the above expressions\n",
    "    N, D = np.shape(X)\n",
    "    y_hat = np.dot(X,weights)\n",
    "    error = y_hat - y\n",
    "    \n",
    "    return np.dot(np.transpose(X), error) / float(N)"
   ]
  },
  {
   "cell_type": "markdown",
   "metadata": {},
   "source": [
    "#### Bài  5. Tính dựa trên Gradient Descent\n",
    "\n",
    "Xấp xỉ giá trị $\\theta$ như sau\n",
    "\n",
    "$$ \\hat{\\theta} := \\hat{\\theta} - \\alpha * \\left( h_\\theta(x^{(i)}) - y^{(i)} \\right)x_j^{(i)}$$\n",
    "\n",
    "#### 5.1 Viết chương trình"
   ]
  },
  {
   "cell_type": "code",
   "execution_count": 28,
   "metadata": {},
   "outputs": [],
   "source": [
    "def np_solve_via_gradient_descent(X, y, print_every=5000,\n",
    "                               niter=100000, alpha=0.005):\n",
    "    '''\n",
    "    Given `X` - matrix of shape (N,D) of input features\n",
    "          `y` - target y values\n",
    "    Solves for linear regression weights.\n",
    "    Return weights after `niter` iterations.\n",
    "    '''\n",
    "    N, D = np.shape(X)\n",
    "    print(np.shape(X))\n",
    "    print(D)\n",
    "    # initialize all the weights to zeros\n",
    "    w = np.zeros([D])\n",
    "    for k in range(niter):\n",
    "        \n",
    "        #TODO: Complete the below followed the above expressions\n",
    "        dw = np_grad_fn(w,X,y)\n",
    "        w = w - alpha * dw\n",
    "        if k % print_every == 0:\n",
    "            print('Weight after %d iteration: %s' % (k, str(w)))\n",
    "    print(dw.shape)\n",
    "    print(w.shape)\n",
    "    return w"
   ]
  },
  {
   "cell_type": "markdown",
   "metadata": {},
   "source": [
    "#### 5.2 Chạy thử chương trình"
   ]
  },
  {
   "cell_type": "code",
   "execution_count": 29,
   "metadata": {},
   "outputs": [
    {
     "name": "stdout",
     "output_type": "stream",
     "text": [
      "(404, 3)\n",
      "3\n",
      "Weight after 0 iteration: [1.08841881 0.73504649 0.11305941]\n",
      "Weight after 5000 iteration: [-0.52280011  5.12987932 -3.74261504]\n",
      "Weight after 10000 iteration: [-0.49539334  5.64092276 -7.29776997]\n",
      "Weight after 15000 iteration: [ -0.47316887   6.05533373 -10.18068575]\n",
      "Weight after 20000 iteration: [ -0.4551468    6.39138431 -12.5184751 ]\n",
      "Weight after 25000 iteration: [ -0.44053249   6.66389158 -14.41421522]\n",
      "Weight after 30000 iteration: [ -0.42868158   6.88487083 -15.95149255]\n",
      "Weight after 35000 iteration: [ -0.41907154   7.06406544 -17.19808831]\n",
      "Weight after 40000 iteration: [ -0.41127866   7.20937639 -18.20896706]\n",
      "Weight after 45000 iteration: [ -0.40495931   7.3272107  -19.02870019]\n",
      "Weight after 50000 iteration: [ -0.39983489   7.42276389 -19.69343116]\n",
      "Weight after 55000 iteration: [ -0.39567943   7.50024907 -20.2324691 ]\n",
      "Weight after 60000 iteration: [ -0.39230972   7.56308268 -20.66958113]\n",
      "Weight after 65000 iteration: [ -0.38957719   7.61403518 -21.02404027]\n",
      "Weight after 70000 iteration: [ -0.38736135   7.65535314 -21.31147524]\n",
      "Weight after 75000 iteration: [ -0.38556449   7.68885835 -21.54455955]\n",
      "Weight after 80000 iteration: [ -0.38410741   7.7160281  -21.73357027]\n",
      "Weight after 85000 iteration: [ -0.38292584   7.73806037 -21.88684123]\n",
      "Weight after 90000 iteration: [ -0.38196769   7.75592659 -22.0111304 ]\n",
      "Weight after 95000 iteration: [ -0.38119071   7.7704145  -22.11191791]\n",
      "(3,)\n",
      "(3,)\n"
     ]
    }
   ],
   "source": [
    "opt_w = np_solve_via_gradient_descent(train_X_new, train_Y)"
   ]
  },
  {
   "cell_type": "code",
   "execution_count": 20,
   "metadata": {},
   "outputs": [
    {
     "name": "stdout",
     "output_type": "stream",
     "text": [
      "Training cost: 18.502043170574055\n"
     ]
    }
   ],
   "source": [
    "print(\"Training cost:\", np_cost_vectorized(opt_w[:2], opt_w[2], train_X, train_Y)) # 18.502043170574055"
   ]
  },
  {
   "cell_type": "code",
   "execution_count": 21,
   "metadata": {},
   "outputs": [
    {
     "name": "stdout",
     "output_type": "stream",
     "text": [
      "Testing cost: 24.051240417619546\n"
     ]
    }
   ],
   "source": [
    "print(\"Testing cost:\", np_cost_vectorized(opt_w[:2], opt_w[2], test_X, test_Y)) # 24.051240417619557"
   ]
  }
 ],
 "metadata": {
  "kernelspec": {
   "display_name": "Python 3",
   "language": "python",
   "name": "python3"
  },
  "language_info": {
   "codemirror_mode": {
    "name": "ipython",
    "version": 3
   },
   "file_extension": ".py",
   "mimetype": "text/x-python",
   "name": "python",
   "nbconvert_exporter": "python",
   "pygments_lexer": "ipython3",
   "version": "3.7.3"
  }
 },
 "nbformat": 4,
 "nbformat_minor": 2
}
