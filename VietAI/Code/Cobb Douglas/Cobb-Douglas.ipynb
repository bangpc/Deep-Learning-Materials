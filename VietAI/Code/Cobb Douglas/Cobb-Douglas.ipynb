{
 "cells": [
  {
   "cell_type": "code",
   "execution_count": 1,
   "metadata": {},
   "outputs": [],
   "source": [
    "import pandas as pd\n",
    "import numpy as np\n",
    "from numpy import *\n",
    "import matplotlib.pyplot as plt\n",
    "%matplotlib inline"
   ]
  },
  {
   "cell_type": "markdown",
   "metadata": {},
   "source": [
    "Cobb and Douglas used least squares linear regression line to construct their model.\n",
    "\n",
    "Here, we will find the least squares linear regression line through the points (x,y). This will be a line like,  y=αx+ln(b)  for some  α  and  b , to be determined.\n",
    "\n",
    "Where y = ln(P/K) and x = ln(L/K)"
   ]
  },
  {
   "cell_type": "code",
   "execution_count": 2,
   "metadata": {},
   "outputs": [
    {
     "name": "stdout",
     "output_type": "stream",
     "text": [
      "[ 0.          0.03883983 -0.01801851 -0.04184711 -0.01626052 -0.0082305\n",
      " -0.13453089 -0.12604072 -0.07563741 -0.02409755 -0.08058049 -0.07847162\n",
      " -0.03322565 -0.13272462 -0.16507975 -0.10601819 -0.19189101 -0.20661425\n",
      " -0.13668299 -0.10386686 -0.1063804  -0.17455955 -0.20377918 -0.39923456]\n",
      "[0.         0.05770832 0.01769958 0.         0.05491576 0.12323264\n",
      " 0.04110168 0.06986968 0.15320416 0.38407392 0.24484191 0.26863388\n",
      " 0.34484049 0.24438527 0.24889605 0.36726951 0.34174929 0.28099308\n",
      " 0.38918051 0.49546156 0.57392963 0.56639547 0.84570042 0.58546917]\n"
     ]
    }
   ],
   "source": [
    "data = pd.read_csv('Cobb Douglas Data.csv')\n",
    "x = data['P']\n",
    "y = data['L']\n",
    "z = data['K']\n",
    "\n",
    "data = np.array(data)\n",
    "\n",
    "X = np.log(data[:,2] / data[:,1])\n",
    "Y = np.log(data[:,3] / data[:,1])\n",
    "\n",
    "print(X)\n",
    "print(Y)"
   ]
  },
  {
   "cell_type": "code",
   "execution_count": 3,
   "metadata": {},
   "outputs": [
    {
     "name": "stdout",
     "output_type": "stream",
     "text": [
      "0    100\n",
      "1    101\n",
      "2    112\n",
      "3    122\n",
      "4    124\n",
      "Name: P, dtype: int64\n",
      "0    100\n",
      "1    105\n",
      "2    110\n",
      "3    117\n",
      "4    122\n",
      "Name: L, dtype: int64\n"
     ]
    },
    {
     "data": {
      "text/plain": [
       "<matplotlib.collections.PathCollection at 0x234f01ebf60>"
      ]
     },
     "execution_count": 3,
     "metadata": {},
     "output_type": "execute_result"
    },
    {
     "data": {
      "image/png": "[encoded data removed]",
      "text/plain": [
       "<Figure size 432x288 with 1 Axes>"
      ]
     },
     "metadata": {
      "needs_background": "light"
     },
     "output_type": "display_data"
    }
   ],
   "source": [
    "print(x.head())\n",
    "print(y.head())\n",
    "plt.scatter(x,y)\n",
    "plt.scatter(x,z)"
   ]
  },
  {
   "cell_type": "code",
   "execution_count": 4,
   "metadata": {},
   "outputs": [],
   "source": [
    "def Cobb_Douglas_GradientDescent(X, Y,learning_rate = 0.4,epochs = 10000,print_every = 1000):\n",
    "    n = float(len(X))\n",
    "    a = 0\n",
    "    ln_b = 0\n",
    "    for i in range(epochs): \n",
    "        Y_hat = a*X + ln_b\n",
    "        D_a = (-1/n) * sum(X * (Y - Y_hat))\n",
    "        D_ln_b = (-1/n) * sum(Y - Y_hat)\n",
    "        a = a - learning_rate * D_a\n",
    "        ln_b = ln_b - learning_rate * D_ln_b\n",
    "        b = np.exp(ln_b)\n",
    "        if(i % print_every == 0):\n",
    "            print(\"weight after %d iteration a = %f, b = %f\" %(i,a,b))\n",
    "    print(\"Result a = %f , b = %f\" %(a,b))"
   ]
  },
  {
   "cell_type": "code",
   "execution_count": 5,
   "metadata": {},
   "outputs": [
    {
     "name": "stdout",
     "output_type": "stream",
     "text": [
      "weight after 0 iteration a = -0.016570, b = 1.118132\n",
      "weight after 1000 iteration a = -1.394086, b = 1.141711\n",
      "weight after 2000 iteration a = -1.444054, b = 1.135675\n",
      "weight after 3000 iteration a = -1.445890, b = 1.135454\n",
      "weight after 4000 iteration a = -1.445958, b = 1.135446\n",
      "weight after 5000 iteration a = -1.445960, b = 1.135445\n",
      "weight after 6000 iteration a = -1.445960, b = 1.135445\n",
      "weight after 7000 iteration a = -1.445960, b = 1.135445\n",
      "weight after 8000 iteration a = -1.445960, b = 1.135445\n",
      "weight after 9000 iteration a = -1.445960, b = 1.135445\n",
      "Result a = -1.445960 , b = 1.135445\n"
     ]
    }
   ],
   "source": [
    "Cobb_Douglas(X,Y)"
   ]
  }
 ],
 "metadata": {
  "celltoolbar": "Attachments",
  "kernelspec": {
   "display_name": "Python 3",
   "language": "python",
   "name": "python3"
  },
  "language_info": {
   "codemirror_mode": {
    "name": "ipython",
    "version": 3
   },
   "file_extension": ".py",
   "mimetype": "text/x-python",
   "name": "python",
   "nbconvert_exporter": "python",
   "pygments_lexer": "ipython3",
   "version": "3.7.3"
  }
 },
 "nbformat": 4,
 "nbformat_minor": 2
}
